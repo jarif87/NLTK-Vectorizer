{
  "metadata": {
    "kernelspec": {
      "language": "python",
      "display_name": "Python 3",
      "name": "python3"
    },
    "language_info": {
      "name": "python",
      "version": "3.10.12",
      "mimetype": "text/x-python",
      "codemirror_mode": {
        "name": "ipython",
        "version": 3
      },
      "pygments_lexer": "ipython3",
      "nbconvert_exporter": "python",
      "file_extension": ".py"
    },
    "colab": {
      "provenance": []
    }
  },
  "nbformat_minor": 0,
  "nbformat": 4,
  "cells": [
    {
      "cell_type": "code",
      "source": [
        "import pandas as pd\n",
        "from nltk.stem import PorterStemmer\n",
        "import nltk\n",
        "import nltk\n",
        "nltk.download('wordnet')\n",
        "nltk.download('punkt')\n",
        "nltk.download('averaged_perceptron_tagger')\n",
        "nltk.download('maxent_ne_chunker')\n",
        "nltk.download('words')"
      ],
      "metadata": {
        "execution": {
          "iopub.status.busy": "2023-07-25T11:40:54.143904Z",
          "iopub.execute_input": "2023-07-25T11:40:54.144628Z",
          "iopub.status.idle": "2023-07-25T11:40:54.846295Z",
          "shell.execute_reply.started": "2023-07-25T11:40:54.144580Z",
          "shell.execute_reply": "2023-07-25T11:40:54.845399Z"
        },
        "trusted": true,
        "colab": {
          "base_uri": "https://localhost:8080/"
        },
        "id": "3zv7LUYe2zL9",
        "outputId": "2a314763-1bd3-4ed4-ca7c-cebb628b62fc"
      },
      "execution_count": 1,
      "outputs": [
        {
          "output_type": "stream",
          "name": "stderr",
          "text": [
            "[nltk_data] Downloading package wordnet to /root/nltk_data...\n",
            "[nltk_data]   Package wordnet is already up-to-date!\n",
            "[nltk_data] Downloading package punkt to /root/nltk_data...\n",
            "[nltk_data]   Package punkt is already up-to-date!\n",
            "[nltk_data] Downloading package averaged_perceptron_tagger to\n",
            "[nltk_data]     /root/nltk_data...\n",
            "[nltk_data]   Package averaged_perceptron_tagger is already up-to-\n",
            "[nltk_data]       date!\n",
            "[nltk_data] Downloading package maxent_ne_chunker to\n",
            "[nltk_data]     /root/nltk_data...\n",
            "[nltk_data]   Package maxent_ne_chunker is already up-to-date!\n",
            "[nltk_data] Downloading package words to /root/nltk_data...\n",
            "[nltk_data]   Package words is already up-to-date!\n"
          ]
        },
        {
          "output_type": "execute_result",
          "data": {
            "text/plain": [
              "True"
            ]
          },
          "metadata": {},
          "execution_count": 1
        }
      ]
    },
    {
      "cell_type": "code",
      "source": [
        "ps=PorterStemmer()"
      ],
      "metadata": {
        "execution": {
          "iopub.status.busy": "2023-07-25T11:40:54.848232Z",
          "iopub.execute_input": "2023-07-25T11:40:54.848835Z",
          "iopub.status.idle": "2023-07-25T11:40:54.852890Z",
          "shell.execute_reply.started": "2023-07-25T11:40:54.848800Z",
          "shell.execute_reply": "2023-07-25T11:40:54.851880Z"
        },
        "trusted": true,
        "id": "lgxJIz2-2zMB"
      },
      "execution_count": 2,
      "outputs": []
    },
    {
      "cell_type": "code",
      "source": [
        "word=[\"play\",\"plays\",\"player\",\"playing\",\"players\"]\n",
        "for x in word:\n",
        "    print(x,\":\",ps.stem(x))\n",
        ""
      ],
      "metadata": {
        "execution": {
          "iopub.status.busy": "2023-07-25T11:40:54.854178Z",
          "iopub.execute_input": "2023-07-25T11:40:54.854491Z",
          "iopub.status.idle": "2023-07-25T11:40:54.867288Z",
          "shell.execute_reply.started": "2023-07-25T11:40:54.854464Z",
          "shell.execute_reply": "2023-07-25T11:40:54.866107Z"
        },
        "trusted": true,
        "colab": {
          "base_uri": "https://localhost:8080/"
        },
        "id": "vmTaabR62zMB",
        "outputId": "22978ad5-d905-486c-df76-1a04f7612555"
      },
      "execution_count": 3,
      "outputs": [
        {
          "output_type": "stream",
          "name": "stdout",
          "text": [
            "play : play\n",
            "plays : play\n",
            "player : player\n",
            "playing : play\n",
            "players : player\n"
          ]
        }
      ]
    },
    {
      "cell_type": "code",
      "source": [
        "words=[\"program\", \"programs\", \"programmer\", \"programming\", \"programmers\"]\n",
        "for w in words:\n",
        "    print(w,\":\",ps.stem(w))\n",
        ""
      ],
      "metadata": {
        "execution": {
          "iopub.status.busy": "2023-07-25T11:40:54.868484Z",
          "iopub.execute_input": "2023-07-25T11:40:54.868869Z",
          "iopub.status.idle": "2023-07-25T11:40:54.881554Z",
          "shell.execute_reply.started": "2023-07-25T11:40:54.868831Z",
          "shell.execute_reply": "2023-07-25T11:40:54.880490Z"
        },
        "trusted": true,
        "colab": {
          "base_uri": "https://localhost:8080/"
        },
        "id": "Tjvmm9qy2zMC",
        "outputId": "6aaa1374-9bf8-4c38-ccf3-e2c388bc6629"
      },
      "execution_count": 4,
      "outputs": [
        {
          "output_type": "stream",
          "name": "stdout",
          "text": [
            "program : program\n",
            "programs : program\n",
            "programmer : programm\n",
            "programming : program\n",
            "programmers : programm\n"
          ]
        }
      ]
    },
    {
      "cell_type": "code",
      "source": [
        "from nltk.tokenize import word_tokenize"
      ],
      "metadata": {
        "execution": {
          "iopub.status.busy": "2023-07-25T11:40:54.884689Z",
          "iopub.execute_input": "2023-07-25T11:40:54.885317Z",
          "iopub.status.idle": "2023-07-25T11:40:54.893664Z",
          "shell.execute_reply.started": "2023-07-25T11:40:54.885254Z",
          "shell.execute_reply": "2023-07-25T11:40:54.892503Z"
        },
        "trusted": true,
        "id": "aVV_bZrh2zMC"
      },
      "execution_count": 5,
      "outputs": []
    },
    {
      "cell_type": "code",
      "source": [
        "txt=\"With the help of nltk.tokenize.word_tokenize() method, we are able to extract the tokens from string of characters by using tokenize.word_tokenize() method. It actually returns the syllables from a single word. A single word can contain one or two syllables.\""
      ],
      "metadata": {
        "execution": {
          "iopub.status.busy": "2023-07-25T11:40:54.895289Z",
          "iopub.execute_input": "2023-07-25T11:40:54.896020Z",
          "iopub.status.idle": "2023-07-25T11:40:54.907065Z",
          "shell.execute_reply.started": "2023-07-25T11:40:54.895981Z",
          "shell.execute_reply": "2023-07-25T11:40:54.905434Z"
        },
        "trusted": true,
        "id": "cwY1pxKg2zMD"
      },
      "execution_count": 6,
      "outputs": []
    },
    {
      "cell_type": "code",
      "source": [
        "token=word_tokenize(txt)\n",
        "token"
      ],
      "metadata": {
        "execution": {
          "iopub.status.busy": "2023-07-25T11:40:54.908686Z",
          "iopub.execute_input": "2023-07-25T11:40:54.909089Z",
          "iopub.status.idle": "2023-07-25T11:40:54.935550Z",
          "shell.execute_reply.started": "2023-07-25T11:40:54.909052Z",
          "shell.execute_reply": "2023-07-25T11:40:54.934449Z"
        },
        "trusted": true,
        "colab": {
          "base_uri": "https://localhost:8080/"
        },
        "id": "SgYa5OMb2zMD",
        "outputId": "00a36c2d-3462-4ba6-e5a3-e63e311dab8d"
      },
      "execution_count": 7,
      "outputs": [
        {
          "output_type": "execute_result",
          "data": {
            "text/plain": [
              "['With',\n",
              " 'the',\n",
              " 'help',\n",
              " 'of',\n",
              " 'nltk.tokenize.word_tokenize',\n",
              " '(',\n",
              " ')',\n",
              " 'method',\n",
              " ',',\n",
              " 'we',\n",
              " 'are',\n",
              " 'able',\n",
              " 'to',\n",
              " 'extract',\n",
              " 'the',\n",
              " 'tokens',\n",
              " 'from',\n",
              " 'string',\n",
              " 'of',\n",
              " 'characters',\n",
              " 'by',\n",
              " 'using',\n",
              " 'tokenize.word_tokenize',\n",
              " '(',\n",
              " ')',\n",
              " 'method',\n",
              " '.',\n",
              " 'It',\n",
              " 'actually',\n",
              " 'returns',\n",
              " 'the',\n",
              " 'syllables',\n",
              " 'from',\n",
              " 'a',\n",
              " 'single',\n",
              " 'word',\n",
              " '.',\n",
              " 'A',\n",
              " 'single',\n",
              " 'word',\n",
              " 'can',\n",
              " 'contain',\n",
              " 'one',\n",
              " 'or',\n",
              " 'two',\n",
              " 'syllables',\n",
              " '.']"
            ]
          },
          "metadata": {},
          "execution_count": 7
        }
      ]
    },
    {
      "cell_type": "markdown",
      "source": [
        "# Lemmatization"
      ],
      "metadata": {
        "id": "jw5qESWv2zME"
      }
    },
    {
      "cell_type": "code",
      "source": [
        "from nltk.stem import WordNetLemmatizer"
      ],
      "metadata": {
        "execution": {
          "iopub.status.busy": "2023-07-25T11:40:54.938236Z",
          "iopub.execute_input": "2023-07-25T11:40:54.938806Z",
          "iopub.status.idle": "2023-07-25T11:40:54.944121Z",
          "shell.execute_reply.started": "2023-07-25T11:40:54.938775Z",
          "shell.execute_reply": "2023-07-25T11:40:54.943025Z"
        },
        "trusted": true,
        "id": "iaSWFpt72zMH"
      },
      "execution_count": 8,
      "outputs": []
    },
    {
      "cell_type": "code",
      "source": [
        "lm=WordNetLemmatizer()\n",
        "print(token)"
      ],
      "metadata": {
        "execution": {
          "iopub.status.busy": "2023-07-25T11:40:54.945805Z",
          "iopub.execute_input": "2023-07-25T11:40:54.946553Z",
          "iopub.status.idle": "2023-07-25T11:40:54.955567Z",
          "shell.execute_reply.started": "2023-07-25T11:40:54.946513Z",
          "shell.execute_reply": "2023-07-25T11:40:54.954554Z"
        },
        "trusted": true,
        "colab": {
          "base_uri": "https://localhost:8080/"
        },
        "id": "JrJqydNS2zMI",
        "outputId": "78fa4a47-b37f-49db-d0f4-3625a1e602af"
      },
      "execution_count": 9,
      "outputs": [
        {
          "output_type": "stream",
          "name": "stdout",
          "text": [
            "['With', 'the', 'help', 'of', 'nltk.tokenize.word_tokenize', '(', ')', 'method', ',', 'we', 'are', 'able', 'to', 'extract', 'the', 'tokens', 'from', 'string', 'of', 'characters', 'by', 'using', 'tokenize.word_tokenize', '(', ')', 'method', '.', 'It', 'actually', 'returns', 'the', 'syllables', 'from', 'a', 'single', 'word', '.', 'A', 'single', 'word', 'can', 'contain', 'one', 'or', 'two', 'syllables', '.']\n"
          ]
        }
      ]
    },
    {
      "cell_type": "code",
      "source": [
        "\n",
        "for wrd in token:\n",
        "    print(wrd,\"=\",lm.lemmatize(wrd))"
      ],
      "metadata": {
        "execution": {
          "iopub.status.busy": "2023-07-25T11:40:54.956927Z",
          "iopub.execute_input": "2023-07-25T11:40:54.957456Z",
          "iopub.status.idle": "2023-07-25T11:40:55.563792Z",
          "shell.execute_reply.started": "2023-07-25T11:40:54.957416Z",
          "shell.execute_reply": "2023-07-25T11:40:55.562199Z"
        },
        "trusted": true,
        "colab": {
          "base_uri": "https://localhost:8080/"
        },
        "id": "om96UTYH2zMI",
        "outputId": "4fbe7a5b-27e4-4108-b1db-a695aff68520"
      },
      "execution_count": 10,
      "outputs": [
        {
          "output_type": "stream",
          "name": "stdout",
          "text": [
            "With = With\n",
            "the = the\n",
            "help = help\n",
            "of = of\n",
            "nltk.tokenize.word_tokenize = nltk.tokenize.word_tokenize\n",
            "( = (\n",
            ") = )\n",
            "method = method\n",
            ", = ,\n",
            "we = we\n",
            "are = are\n",
            "able = able\n",
            "to = to\n",
            "extract = extract\n",
            "the = the\n",
            "tokens = token\n",
            "from = from\n",
            "string = string\n",
            "of = of\n",
            "characters = character\n",
            "by = by\n",
            "using = using\n",
            "tokenize.word_tokenize = tokenize.word_tokenize\n",
            "( = (\n",
            ") = )\n",
            "method = method\n",
            ". = .\n",
            "It = It\n",
            "actually = actually\n",
            "returns = return\n",
            "the = the\n",
            "syllables = syllable\n",
            "from = from\n",
            "a = a\n",
            "single = single\n",
            "word = word\n",
            ". = .\n",
            "A = A\n",
            "single = single\n",
            "word = word\n",
            "can = can\n",
            "contain = contain\n",
            "one = one\n",
            "or = or\n",
            "two = two\n",
            "syllables = syllable\n",
            ". = .\n"
          ]
        }
      ]
    },
    {
      "cell_type": "code",
      "source": [
        "print(\"better\",\"==\",lm.lemmatize(\"better\",pos=\"a\"))"
      ],
      "metadata": {
        "colab": {
          "base_uri": "https://localhost:8080/"
        },
        "id": "YyC-p4VM2zMK",
        "outputId": "e0d95d1e-9e05-4ad6-dbf8-b60105772ebb"
      },
      "execution_count": 11,
      "outputs": [
        {
          "output_type": "stream",
          "name": "stdout",
          "text": [
            "better == good\n"
          ]
        }
      ]
    },
    {
      "cell_type": "code",
      "source": [
        "from nltk.tokenize import word_tokenize, sent_tokenize"
      ],
      "metadata": {
        "id": "8IASOB7E2zMK"
      },
      "execution_count": 12,
      "outputs": []
    },
    {
      "cell_type": "code",
      "source": [
        "sentence=\"Lemmatization is the process of grouping together the different inflected forms of a word so they can be analyzed as a single item. Lemmatization is similar to stemming but it brings context to the words. So it links words with similar meanings to one word. Text preprocessing includes both Stemming as well as Lemmatization. Many times people find these two terms confusing. Some treat these two as the same. Actually, lemmatization is preferred over Stemming because lemmatization does morphological analysis of the words.\""
      ],
      "metadata": {
        "id": "avwJhDkw2zMK"
      },
      "execution_count": 13,
      "outputs": []
    },
    {
      "cell_type": "code",
      "source": [
        "word_tokens = word_tokenize(sentence)\n",
        "sentence_tokens = sent_tokenize(sentence)\n",
        "\n",
        "print(word_tokens)\n",
        "print(sentence_tokens)"
      ],
      "metadata": {
        "colab": {
          "base_uri": "https://localhost:8080/"
        },
        "id": "za47cqv42zMK",
        "outputId": "ea1cbed4-e786-47e4-e43e-e01c3df2efb6"
      },
      "execution_count": 14,
      "outputs": [
        {
          "output_type": "stream",
          "name": "stdout",
          "text": [
            "['Lemmatization', 'is', 'the', 'process', 'of', 'grouping', 'together', 'the', 'different', 'inflected', 'forms', 'of', 'a', 'word', 'so', 'they', 'can', 'be', 'analyzed', 'as', 'a', 'single', 'item', '.', 'Lemmatization', 'is', 'similar', 'to', 'stemming', 'but', 'it', 'brings', 'context', 'to', 'the', 'words', '.', 'So', 'it', 'links', 'words', 'with', 'similar', 'meanings', 'to', 'one', 'word', '.', 'Text', 'preprocessing', 'includes', 'both', 'Stemming', 'as', 'well', 'as', 'Lemmatization', '.', 'Many', 'times', 'people', 'find', 'these', 'two', 'terms', 'confusing', '.', 'Some', 'treat', 'these', 'two', 'as', 'the', 'same', '.', 'Actually', ',', 'lemmatization', 'is', 'preferred', 'over', 'Stemming', 'because', 'lemmatization', 'does', 'morphological', 'analysis', 'of', 'the', 'words', '.']\n",
            "['Lemmatization is the process of grouping together the different inflected forms of a word so they can be analyzed as a single item.', 'Lemmatization is similar to stemming but it brings context to the words.', 'So it links words with similar meanings to one word.', 'Text preprocessing includes both Stemming as well as Lemmatization.', 'Many times people find these two terms confusing.', 'Some treat these two as the same.', 'Actually, lemmatization is preferred over Stemming because lemmatization does morphological analysis of the words.']\n"
          ]
        }
      ]
    },
    {
      "cell_type": "markdown",
      "source": [
        "# spaCy"
      ],
      "metadata": {
        "id": "iMKX1GxL-D9H"
      }
    },
    {
      "cell_type": "code",
      "source": [
        "import spacy"
      ],
      "metadata": {
        "id": "z3oW2gur2zML"
      },
      "execution_count": 15,
      "outputs": []
    },
    {
      "cell_type": "code",
      "source": [
        "nlp = spacy.load('en_core_web_sm')"
      ],
      "metadata": {
        "id": "x4T8ipE12zML"
      },
      "execution_count": 16,
      "outputs": []
    },
    {
      "cell_type": "code",
      "source": [
        "sentence=\"NLTK (Natural Language Toolkit) is a Python library used for natural language processing. One of its modules is the WordNet Lemmatizer, which can be used to perform lemmatization on words.\""
      ],
      "metadata": {
        "id": "6Ti8KBtN-R_b"
      },
      "execution_count": 17,
      "outputs": []
    },
    {
      "cell_type": "code",
      "source": [
        "doc = nlp(sentence)\n",
        "\n",
        "word_tokens = [m.text for m in doc]\n",
        "\n",
        "print(word_tokens)"
      ],
      "metadata": {
        "colab": {
          "base_uri": "https://localhost:8080/"
        },
        "id": "PZg_1RCt-R8w",
        "outputId": "bfc83931-a064-494d-962a-5e9fae06ca9f"
      },
      "execution_count": 18,
      "outputs": [
        {
          "output_type": "stream",
          "name": "stdout",
          "text": [
            "['NLTK', '(', 'Natural', 'Language', 'Toolkit', ')', 'is', 'a', 'Python', 'library', 'used', 'for', 'natural', 'language', 'processing', '.', 'One', 'of', 'its', 'modules', 'is', 'the', 'WordNet', 'Lemmatizer', ',', 'which', 'can', 'be', 'used', 'to', 'perform', 'lemmatization', 'on', 'words', '.']\n"
          ]
        }
      ]
    },
    {
      "cell_type": "code",
      "source": [
        "import spacy\n",
        "nlp = spacy.load(\"en_core_web_sm\")\n",
        "import en_core_web_sm\n",
        "nlp = en_core_web_sm.load()\n",
        "doc = nlp(\"This is a sentence.\")\n",
        "print([(w.text, w.pos_) for w in doc])"
      ],
      "metadata": {
        "colab": {
          "base_uri": "https://localhost:8080/"
        },
        "id": "10FPm8HJ_Gr0",
        "outputId": "885149f7-c0e0-4a0a-e3a4-342796c42443"
      },
      "execution_count": 19,
      "outputs": [
        {
          "output_type": "stream",
          "name": "stdout",
          "text": [
            "[('This', 'PRON'), ('is', 'AUX'), ('a', 'DET'), ('sentence', 'NOUN'), ('.', 'PUNCT')]\n"
          ]
        }
      ]
    },
    {
      "cell_type": "markdown",
      "source": [
        "# Transformers"
      ],
      "metadata": {
        "id": "5MhkD_Bh-yHl"
      }
    },
    {
      "cell_type": "code",
      "source": [
        "!pip install transformers"
      ],
      "metadata": {
        "colab": {
          "base_uri": "https://localhost:8080/"
        },
        "id": "Rl79pOW8_f4Q",
        "outputId": "679e1e90-fbe9-44c7-9a63-ea753c21700b"
      },
      "execution_count": 20,
      "outputs": [
        {
          "output_type": "stream",
          "name": "stdout",
          "text": [
            "Requirement already satisfied: transformers in /usr/local/lib/python3.10/dist-packages (4.31.0)\n",
            "Requirement already satisfied: filelock in /usr/local/lib/python3.10/dist-packages (from transformers) (3.12.2)\n",
            "Requirement already satisfied: huggingface-hub<1.0,>=0.14.1 in /usr/local/lib/python3.10/dist-packages (from transformers) (0.16.4)\n",
            "Requirement already satisfied: numpy>=1.17 in /usr/local/lib/python3.10/dist-packages (from transformers) (1.22.4)\n",
            "Requirement already satisfied: packaging>=20.0 in /usr/local/lib/python3.10/dist-packages (from transformers) (23.1)\n",
            "Requirement already satisfied: pyyaml>=5.1 in /usr/local/lib/python3.10/dist-packages (from transformers) (6.0.1)\n",
            "Requirement already satisfied: regex!=2019.12.17 in /usr/local/lib/python3.10/dist-packages (from transformers) (2022.10.31)\n",
            "Requirement already satisfied: requests in /usr/local/lib/python3.10/dist-packages (from transformers) (2.27.1)\n",
            "Requirement already satisfied: tokenizers!=0.11.3,<0.14,>=0.11.1 in /usr/local/lib/python3.10/dist-packages (from transformers) (0.13.3)\n",
            "Requirement already satisfied: safetensors>=0.3.1 in /usr/local/lib/python3.10/dist-packages (from transformers) (0.3.1)\n",
            "Requirement already satisfied: tqdm>=4.27 in /usr/local/lib/python3.10/dist-packages (from transformers) (4.65.0)\n",
            "Requirement already satisfied: fsspec in /usr/local/lib/python3.10/dist-packages (from huggingface-hub<1.0,>=0.14.1->transformers) (2023.6.0)\n",
            "Requirement already satisfied: typing-extensions>=3.7.4.3 in /usr/local/lib/python3.10/dist-packages (from huggingface-hub<1.0,>=0.14.1->transformers) (4.7.1)\n",
            "Requirement already satisfied: urllib3<1.27,>=1.21.1 in /usr/local/lib/python3.10/dist-packages (from requests->transformers) (1.26.16)\n",
            "Requirement already satisfied: certifi>=2017.4.17 in /usr/local/lib/python3.10/dist-packages (from requests->transformers) (2023.5.7)\n",
            "Requirement already satisfied: charset-normalizer~=2.0.0 in /usr/local/lib/python3.10/dist-packages (from requests->transformers) (2.0.12)\n",
            "Requirement already satisfied: idna<4,>=2.5 in /usr/local/lib/python3.10/dist-packages (from requests->transformers) (3.4)\n"
          ]
        }
      ]
    },
    {
      "cell_type": "code",
      "source": [
        "from transformers import AutoTokenizer\n",
        "\n",
        "tokenizer = AutoTokenizer.from_pretrained('bert-base-uncased')\n",
        "\n",
        "sentence = \"I'm from aiQuest Intelligence. I am learning NLP. It is fascinating!\"\n",
        "tokens = tokenizer.tokenize(sentence)\n",
        "\n",
        "print(tokens)"
      ],
      "metadata": {
        "colab": {
          "base_uri": "https://localhost:8080/"
        },
        "id": "EdloUKX1-R5u",
        "outputId": "f9086627-d294-4da1-e555-9b4f3d96c058"
      },
      "execution_count": 21,
      "outputs": [
        {
          "output_type": "stream",
          "name": "stdout",
          "text": [
            "['i', \"'\", 'm', 'from', 'ai', '##quest', 'intelligence', '.', 'i', 'am', 'learning', 'nl', '##p', '.', 'it', 'is', 'fascinating', '!']\n"
          ]
        }
      ]
    },
    {
      "cell_type": "markdown",
      "source": [
        "# Named Entity Tokenization using NLTK\n",
        "\n",
        "**To perform named entity tokenization using NLTK (Natural Language Toolkit), you can utilize the named entity recognition (NER) functionality provided by NLTK. Here's an example of how to extract named entity tokens from a sentence using NLTK**"
      ],
      "metadata": {
        "id": "XBpmp3Pg_xbB"
      }
    },
    {
      "cell_type": "code",
      "source": [
        "\n",
        "from nltk import word_tokenize, pos_tag, ne_chunk"
      ],
      "metadata": {
        "id": "U5Sret96-R2-"
      },
      "execution_count": 22,
      "outputs": []
    },
    {
      "cell_type": "code",
      "source": [
        "sentence=\"A sentence is a word or group of words that must expresses a complete idea or sense or meaning and that may consists of a subject and a verb.Also it may have an object or a complement and the words must be order properly.\""
      ],
      "metadata": {
        "id": "6vrYVjGL-Rz2"
      },
      "execution_count": 23,
      "outputs": []
    },
    {
      "cell_type": "code",
      "source": [
        "# Tokenize the sentence into words\n",
        "tokens = word_tokenize(sentence)\n",
        "print(tokens)"
      ],
      "metadata": {
        "colab": {
          "base_uri": "https://localhost:8080/"
        },
        "id": "niSlKtwT-Rww",
        "outputId": "9ac1a70d-bbca-4c6c-86a5-43f562c71701"
      },
      "execution_count": 24,
      "outputs": [
        {
          "output_type": "stream",
          "name": "stdout",
          "text": [
            "['A', 'sentence', 'is', 'a', 'word', 'or', 'group', 'of', 'words', 'that', 'must', 'expresses', 'a', 'complete', 'idea', 'or', 'sense', 'or', 'meaning', 'and', 'that', 'may', 'consists', 'of', 'a', 'subject', 'and', 'a', 'verb.Also', 'it', 'may', 'have', 'an', 'object', 'or', 'a', 'complement', 'and', 'the', 'words', 'must', 'be', 'order', 'properly', '.']\n"
          ]
        }
      ]
    },
    {
      "cell_type": "code",
      "source": [
        "# Perform part-of-speech tagging\n",
        "pos_tags = pos_tag(tokens)\n",
        "print(pos_tags)"
      ],
      "metadata": {
        "colab": {
          "base_uri": "https://localhost:8080/"
        },
        "id": "L2OeUqHx-Rtx",
        "outputId": "059541ce-9d59-4193-823c-73737a83c4da"
      },
      "execution_count": 25,
      "outputs": [
        {
          "output_type": "stream",
          "name": "stdout",
          "text": [
            "[('A', 'DT'), ('sentence', 'NN'), ('is', 'VBZ'), ('a', 'DT'), ('word', 'NN'), ('or', 'CC'), ('group', 'NN'), ('of', 'IN'), ('words', 'NNS'), ('that', 'WDT'), ('must', 'MD'), ('expresses', 'VB'), ('a', 'DT'), ('complete', 'JJ'), ('idea', 'NN'), ('or', 'CC'), ('sense', 'NN'), ('or', 'CC'), ('meaning', 'NN'), ('and', 'CC'), ('that', 'DT'), ('may', 'MD'), ('consists', 'VBZ'), ('of', 'IN'), ('a', 'DT'), ('subject', 'NN'), ('and', 'CC'), ('a', 'DT'), ('verb.Also', 'NN'), ('it', 'PRP'), ('may', 'MD'), ('have', 'VB'), ('an', 'DT'), ('object', 'NN'), ('or', 'CC'), ('a', 'DT'), ('complement', 'NN'), ('and', 'CC'), ('the', 'DT'), ('words', 'NNS'), ('must', 'MD'), ('be', 'VB'), ('order', 'NN'), ('properly', 'RB'), ('.', '.')]\n"
          ]
        }
      ]
    },
    {
      "cell_type": "markdown",
      "source": [
        "\n",
        "**(A/DT A sentence/NN)   # 'A' represents an adjective, 'DT' is a determiner, 'NN' is a noun**\n",
        "\n",
        "  **(is/VBZ)                # 'VBZ' is a verb in the present tense**\n",
        "\n",
        "  **(a/DT)                  # 'DT' is a determiner**\n",
        "\n",
        "  **(word/NN)               # 'NN' is a noun**\n",
        "\n",
        "  **(or/CC)                 # 'CC' is a coordinating conjunction**\n",
        "\n",
        "  **(group/NN)              # 'NN' is a noun**\n",
        "\n",
        "  **(of/IN)                 # 'IN' is a preposition**\n",
        "\n",
        "  **(words/NNS)             # 'NNS' is a plural noun**\n",
        "\n",
        "  **(that/WDT)              # 'WDT' is a wh-determiner**\n",
        "\n",
        "  **(must/MD)               # 'MD' is a modal auxiliary verb**\n",
        "\n",
        "  **(expresses/VB)          # 'VB' is a verb in the base form**\n",
        "\n",
        "  **(a/DT)                  # 'DT' is a determiner**\n",
        "\n",
        "  **(complete/JJ)           # 'JJ' is an adjective**\n",
        "\n",
        "  **(idea/NN)               # 'NN' is a noun**\n",
        "\n",
        "  **(or/CC)                 # 'CC' is a coordinating conjunction**\n",
        "\n",
        "  **(sense/NN)              # 'NN' is a noun**\n",
        "  \n",
        "  **(or/CC)                 # 'CC' is a coordinating conjunction**\n",
        "\n",
        "  **(meaning/NN)            # 'NN' is a noun**\n",
        "\n",
        "  **(and/CC)                # 'CC' is a coordinating conjunction**\n",
        "\n",
        "  **(that/DT)               # 'DT' is a determiner**\n",
        "\n",
        "  **(may/MD)                # 'MD' is a modal auxiliary verb**\n",
        "\n",
        "  **(consists/VBZ)          # 'VBZ' is a verb in the present tense**\n",
        "\n",
        "  **(of/IN)                 # 'IN' is a preposition**\n",
        "\n",
        "  **(a/DT)                  # 'DT' is a determiner**\n",
        "\n",
        "  **(subject/NN)            # 'NN' is a noun**\n",
        "\n",
        "  **(and/CC)                # 'CC' is a coordinating conjunction**\n",
        "\n",
        "  **(a/DT)                  # 'DT' is a determiner**\n",
        "\n",
        "  **(verb.Also/NN)          # 'NN' is a noun**\n",
        "\n",
        "  **(it/PRP)                # 'PRP' is a personal pronoun**\n",
        "\n",
        "  **(may/MD)                # 'MD' is a modal auxiliary verb**\n",
        "\n",
        "  **(have/VB)               # 'VB' is a verb in the base form**\n",
        "\n",
        "  **(an/DT)                 # 'DT' is a determiner**\n",
        "\n",
        "  **(object/NN)             # 'NN' is a noun**\n",
        "\n",
        "  **(or/CC)                 # 'CC' is a coordinating conjunction**\n",
        "\n",
        "  **(a/DT)                  # 'DT' is a determiner**\n",
        "\n",
        "  **(complement/NN)         # 'NN' is a noun**\n",
        "\n",
        "  **(and/CC)                # 'CC' is a coordinating conjunction**\n",
        "\n",
        "  **(the/DT)                # 'DT' is a determiner**\n",
        "\n",
        "  **(words/NNS)             # 'NNS' is a plural noun**\n",
        "\n",
        "  **(must/MD)               # 'MD' is a modal auxiliary verb**\n",
        "\n",
        "  **(be/VB)                 # 'VB' is a verb in the base form**\n",
        "\n",
        "  **(order/NN)              # 'NN' is a noun**\n",
        "\n",
        "  **(properly/RB)           # 'RB' is an adverb**\n",
        "\n",
        "  **(./.)                   # '.' is a punctuation mark (full stop)**\n",
        "\n"
      ],
      "metadata": {
        "id": "K_6wl-I7E2SK"
      }
    },
    {
      "cell_type": "markdown",
      "source": [],
      "metadata": {
        "id": "ZRlEPnflE_L5"
      }
    },
    {
      "cell_type": "code",
      "source": [
        "# Perform named entity recognition\n",
        "ner_tags = ne_chunk(pos_tags)\n",
        "print(ner_tags)"
      ],
      "metadata": {
        "colab": {
          "base_uri": "https://localhost:8080/"
        },
        "id": "_Ybsrqxh-Rqo",
        "outputId": "4f187ea5-a3ae-484a-f3ac-db0418c27c8a"
      },
      "execution_count": 26,
      "outputs": [
        {
          "output_type": "stream",
          "name": "stdout",
          "text": [
            "(S\n",
            "  A/DT\n",
            "  sentence/NN\n",
            "  is/VBZ\n",
            "  a/DT\n",
            "  word/NN\n",
            "  or/CC\n",
            "  group/NN\n",
            "  of/IN\n",
            "  words/NNS\n",
            "  that/WDT\n",
            "  must/MD\n",
            "  expresses/VB\n",
            "  a/DT\n",
            "  complete/JJ\n",
            "  idea/NN\n",
            "  or/CC\n",
            "  sense/NN\n",
            "  or/CC\n",
            "  meaning/NN\n",
            "  and/CC\n",
            "  that/DT\n",
            "  may/MD\n",
            "  consists/VBZ\n",
            "  of/IN\n",
            "  a/DT\n",
            "  subject/NN\n",
            "  and/CC\n",
            "  a/DT\n",
            "  verb.Also/NN\n",
            "  it/PRP\n",
            "  may/MD\n",
            "  have/VB\n",
            "  an/DT\n",
            "  object/NN\n",
            "  or/CC\n",
            "  a/DT\n",
            "  complement/NN\n",
            "  and/CC\n",
            "  the/DT\n",
            "  words/NNS\n",
            "  must/MD\n",
            "  be/VB\n",
            "  order/NN\n",
            "  properly/RB\n",
            "  ./.)\n"
          ]
        }
      ]
    },
    {
      "cell_type": "code",
      "source": [
        "# Extract named entity tokens\n",
        "named_entity_tokens = []\n",
        "\n",
        "for chunk in ner_tags:\n",
        "    if hasattr(chunk, 'label'): #hasattr(object, attribute)\n",
        "\n",
        "        named_entity_tokens.append(' '.join(c[0] for c in chunk))\n",
        "\n",
        "print(named_entity_tokens)"
      ],
      "metadata": {
        "colab": {
          "base_uri": "https://localhost:8080/"
        },
        "id": "U--AIz_0-Rnl",
        "outputId": "8cee6da4-f63a-4e37-8fa3-45d37353da06"
      },
      "execution_count": 27,
      "outputs": [
        {
          "output_type": "stream",
          "name": "stdout",
          "text": [
            "[]\n"
          ]
        }
      ]
    },
    {
      "cell_type": "markdown",
      "source": [
        "# Text to  Vectorizer"
      ],
      "metadata": {
        "id": "BqxfMTZATqm0"
      }
    },
    {
      "cell_type": "code",
      "source": [
        "url = 'https://raw.githubusercontent.com/jarif87/DataSets/main/new_data.csv'\n",
        "df=pd.read_csv(url)\n",
        "df.head()"
      ],
      "metadata": {
        "colab": {
          "base_uri": "https://localhost:8080/",
          "height": 175
        },
        "id": "KifN77-FTnUe",
        "outputId": "04fde82f-69aa-43c9-8a77-a90db44aaca6"
      },
      "execution_count": 28,
      "outputs": [
        {
          "output_type": "execute_result",
          "data": {
            "text/plain": [
              "                           test  class\n",
              "0             I love Bangladesh      1\n",
              "1  Could you give me an iphone?      0\n",
              "2            Hello how are you?      1\n",
              "3           I want to talk you.      1"
            ],
            "text/html": [
              "\n",
              "\n",
              "  <div id=\"df-139749cd-2192-4f95-aca3-ba5263850897\">\n",
              "    <div class=\"colab-df-container\">\n",
              "      <div>\n",
              "<style scoped>\n",
              "    .dataframe tbody tr th:only-of-type {\n",
              "        vertical-align: middle;\n",
              "    }\n",
              "\n",
              "    .dataframe tbody tr th {\n",
              "        vertical-align: top;\n",
              "    }\n",
              "\n",
              "    .dataframe thead th {\n",
              "        text-align: right;\n",
              "    }\n",
              "</style>\n",
              "<table border=\"1\" class=\"dataframe\">\n",
              "  <thead>\n",
              "    <tr style=\"text-align: right;\">\n",
              "      <th></th>\n",
              "      <th>test</th>\n",
              "      <th>class</th>\n",
              "    </tr>\n",
              "  </thead>\n",
              "  <tbody>\n",
              "    <tr>\n",
              "      <th>0</th>\n",
              "      <td>I love Bangladesh</td>\n",
              "      <td>1</td>\n",
              "    </tr>\n",
              "    <tr>\n",
              "      <th>1</th>\n",
              "      <td>Could you give me an iphone?</td>\n",
              "      <td>0</td>\n",
              "    </tr>\n",
              "    <tr>\n",
              "      <th>2</th>\n",
              "      <td>Hello how are you?</td>\n",
              "      <td>1</td>\n",
              "    </tr>\n",
              "    <tr>\n",
              "      <th>3</th>\n",
              "      <td>I want to talk you.</td>\n",
              "      <td>1</td>\n",
              "    </tr>\n",
              "  </tbody>\n",
              "</table>\n",
              "</div>\n",
              "      <button class=\"colab-df-convert\" onclick=\"convertToInteractive('df-139749cd-2192-4f95-aca3-ba5263850897')\"\n",
              "              title=\"Convert this dataframe to an interactive table.\"\n",
              "              style=\"display:none;\">\n",
              "\n",
              "  <svg xmlns=\"http://www.w3.org/2000/svg\" height=\"24px\"viewBox=\"0 0 24 24\"\n",
              "       width=\"24px\">\n",
              "    <path d=\"M0 0h24v24H0V0z\" fill=\"none\"/>\n",
              "    <path d=\"M18.56 5.44l.94 2.06.94-2.06 2.06-.94-2.06-.94-.94-2.06-.94 2.06-2.06.94zm-11 1L8.5 8.5l.94-2.06 2.06-.94-2.06-.94L8.5 2.5l-.94 2.06-2.06.94zm10 10l.94 2.06.94-2.06 2.06-.94-2.06-.94-.94-2.06-.94 2.06-2.06.94z\"/><path d=\"M17.41 7.96l-1.37-1.37c-.4-.4-.92-.59-1.43-.59-.52 0-1.04.2-1.43.59L10.3 9.45l-7.72 7.72c-.78.78-.78 2.05 0 2.83L4 21.41c.39.39.9.59 1.41.59.51 0 1.02-.2 1.41-.59l7.78-7.78 2.81-2.81c.8-.78.8-2.07 0-2.86zM5.41 20L4 18.59l7.72-7.72 1.47 1.35L5.41 20z\"/>\n",
              "  </svg>\n",
              "      </button>\n",
              "\n",
              "\n",
              "\n",
              "    <div id=\"df-a02233a1-a9f0-453b-9d46-f5a2263b41eb\">\n",
              "      <button class=\"colab-df-quickchart\" onclick=\"quickchart('df-a02233a1-a9f0-453b-9d46-f5a2263b41eb')\"\n",
              "              title=\"Suggest charts.\"\n",
              "              style=\"display:none;\">\n",
              "\n",
              "<svg xmlns=\"http://www.w3.org/2000/svg\" height=\"24px\"viewBox=\"0 0 24 24\"\n",
              "     width=\"24px\">\n",
              "    <g>\n",
              "        <path d=\"M19 3H5c-1.1 0-2 .9-2 2v14c0 1.1.9 2 2 2h14c1.1 0 2-.9 2-2V5c0-1.1-.9-2-2-2zM9 17H7v-7h2v7zm4 0h-2V7h2v10zm4 0h-2v-4h2v4z\"/>\n",
              "    </g>\n",
              "</svg>\n",
              "      </button>\n",
              "    </div>\n",
              "\n",
              "<style>\n",
              "  .colab-df-quickchart {\n",
              "    background-color: #E8F0FE;\n",
              "    border: none;\n",
              "    border-radius: 50%;\n",
              "    cursor: pointer;\n",
              "    display: none;\n",
              "    fill: #1967D2;\n",
              "    height: 32px;\n",
              "    padding: 0 0 0 0;\n",
              "    width: 32px;\n",
              "  }\n",
              "\n",
              "  .colab-df-quickchart:hover {\n",
              "    background-color: #E2EBFA;\n",
              "    box-shadow: 0px 1px 2px rgba(60, 64, 67, 0.3), 0px 1px 3px 1px rgba(60, 64, 67, 0.15);\n",
              "    fill: #174EA6;\n",
              "  }\n",
              "\n",
              "  [theme=dark] .colab-df-quickchart {\n",
              "    background-color: #3B4455;\n",
              "    fill: #D2E3FC;\n",
              "  }\n",
              "\n",
              "  [theme=dark] .colab-df-quickchart:hover {\n",
              "    background-color: #434B5C;\n",
              "    box-shadow: 0px 1px 3px 1px rgba(0, 0, 0, 0.15);\n",
              "    filter: drop-shadow(0px 1px 2px rgba(0, 0, 0, 0.3));\n",
              "    fill: #FFFFFF;\n",
              "  }\n",
              "</style>\n",
              "\n",
              "    <script>\n",
              "      async function quickchart(key) {\n",
              "        const containerElement = document.querySelector('#' + key);\n",
              "        const charts = await google.colab.kernel.invokeFunction(\n",
              "            'suggestCharts', [key], {});\n",
              "      }\n",
              "    </script>\n",
              "\n",
              "      <script>\n",
              "\n",
              "function displayQuickchartButton(domScope) {\n",
              "  let quickchartButtonEl =\n",
              "    domScope.querySelector('#df-a02233a1-a9f0-453b-9d46-f5a2263b41eb button.colab-df-quickchart');\n",
              "  quickchartButtonEl.style.display =\n",
              "    google.colab.kernel.accessAllowed ? 'block' : 'none';\n",
              "}\n",
              "\n",
              "        displayQuickchartButton(document);\n",
              "      </script>\n",
              "      <style>\n",
              "    .colab-df-container {\n",
              "      display:flex;\n",
              "      flex-wrap:wrap;\n",
              "      gap: 12px;\n",
              "    }\n",
              "\n",
              "    .colab-df-convert {\n",
              "      background-color: #E8F0FE;\n",
              "      border: none;\n",
              "      border-radius: 50%;\n",
              "      cursor: pointer;\n",
              "      display: none;\n",
              "      fill: #1967D2;\n",
              "      height: 32px;\n",
              "      padding: 0 0 0 0;\n",
              "      width: 32px;\n",
              "    }\n",
              "\n",
              "    .colab-df-convert:hover {\n",
              "      background-color: #E2EBFA;\n",
              "      box-shadow: 0px 1px 2px rgba(60, 64, 67, 0.3), 0px 1px 3px 1px rgba(60, 64, 67, 0.15);\n",
              "      fill: #174EA6;\n",
              "    }\n",
              "\n",
              "    [theme=dark] .colab-df-convert {\n",
              "      background-color: #3B4455;\n",
              "      fill: #D2E3FC;\n",
              "    }\n",
              "\n",
              "    [theme=dark] .colab-df-convert:hover {\n",
              "      background-color: #434B5C;\n",
              "      box-shadow: 0px 1px 3px 1px rgba(0, 0, 0, 0.15);\n",
              "      filter: drop-shadow(0px 1px 2px rgba(0, 0, 0, 0.3));\n",
              "      fill: #FFFFFF;\n",
              "    }\n",
              "  </style>\n",
              "\n",
              "      <script>\n",
              "        const buttonEl =\n",
              "          document.querySelector('#df-139749cd-2192-4f95-aca3-ba5263850897 button.colab-df-convert');\n",
              "        buttonEl.style.display =\n",
              "          google.colab.kernel.accessAllowed ? 'block' : 'none';\n",
              "\n",
              "        async function convertToInteractive(key) {\n",
              "          const element = document.querySelector('#df-139749cd-2192-4f95-aca3-ba5263850897');\n",
              "          const dataTable =\n",
              "            await google.colab.kernel.invokeFunction('convertToInteractive',\n",
              "                                                     [key], {});\n",
              "          if (!dataTable) return;\n",
              "\n",
              "          const docLinkHtml = 'Like what you see? Visit the ' +\n",
              "            '<a target=\"_blank\" href=https://colab.research.google.com/notebooks/data_table.ipynb>data table notebook</a>'\n",
              "            + ' to learn more about interactive tables.';\n",
              "          element.innerHTML = '';\n",
              "          dataTable['output_type'] = 'display_data';\n",
              "          await google.colab.output.renderOutput(dataTable, element);\n",
              "          const docLink = document.createElement('div');\n",
              "          docLink.innerHTML = docLinkHtml;\n",
              "          element.appendChild(docLink);\n",
              "        }\n",
              "      </script>\n",
              "    </div>\n",
              "  </div>\n"
            ]
          },
          "metadata": {},
          "execution_count": 28
        }
      ]
    },
    {
      "cell_type": "markdown",
      "source": [
        "# CountVectorizer"
      ],
      "metadata": {
        "id": "gG_60u0kZkXH"
      }
    },
    {
      "cell_type": "code",
      "source": [
        "from sklearn.feature_extraction.text import CountVectorizer, TfidfVectorizer"
      ],
      "metadata": {
        "id": "keIRHP-kTnO4"
      },
      "execution_count": 29,
      "outputs": []
    },
    {
      "cell_type": "code",
      "source": [
        "cv = CountVectorizer()\n",
        "X=df[\"test\"]"
      ],
      "metadata": {
        "id": "w7RKv3JATnJ3"
      },
      "execution_count": 30,
      "outputs": []
    },
    {
      "cell_type": "code",
      "source": [
        "cv_x=cv.fit_transform(X)\n",
        "print(cv_x)"
      ],
      "metadata": {
        "colab": {
          "base_uri": "https://localhost:8080/"
        },
        "id": "wieiMCbfTnGP",
        "outputId": "ecb54492-8ecc-4bd0-fac7-8abf90f3568f"
      },
      "execution_count": 31,
      "outputs": [
        {
          "output_type": "stream",
          "name": "stdout",
          "text": [
            "  (0, 8)\t1\n",
            "  (0, 2)\t1\n",
            "  (1, 3)\t1\n",
            "  (1, 13)\t1\n",
            "  (1, 4)\t1\n",
            "  (1, 9)\t1\n",
            "  (1, 0)\t1\n",
            "  (1, 7)\t1\n",
            "  (2, 13)\t1\n",
            "  (2, 5)\t1\n",
            "  (2, 6)\t1\n",
            "  (2, 1)\t1\n",
            "  (3, 13)\t1\n",
            "  (3, 12)\t1\n",
            "  (3, 11)\t1\n",
            "  (3, 10)\t1\n"
          ]
        }
      ]
    },
    {
      "cell_type": "code",
      "source": [
        "cv_arr=cv_x.toarray()\n",
        "cv_arr"
      ],
      "metadata": {
        "colab": {
          "base_uri": "https://localhost:8080/"
        },
        "id": "87Jxlq-8TnB2",
        "outputId": "01e6e994-322c-4b5f-9769-a72a216a1afe"
      },
      "execution_count": 36,
      "outputs": [
        {
          "output_type": "execute_result",
          "data": {
            "text/plain": [
              "array([[0, 0, 1, 0, 0, 0, 0, 0, 1, 0, 0, 0, 0, 0],\n",
              "       [1, 0, 0, 1, 1, 0, 0, 1, 0, 1, 0, 0, 0, 1],\n",
              "       [0, 1, 0, 0, 0, 1, 1, 0, 0, 0, 0, 0, 0, 1],\n",
              "       [0, 0, 0, 0, 0, 0, 0, 0, 0, 0, 1, 1, 1, 1]])"
            ]
          },
          "metadata": {},
          "execution_count": 36
        }
      ]
    },
    {
      "cell_type": "code",
      "source": [
        "feature_names = cv.get_feature_names_out()\n",
        "print(feature_names)"
      ],
      "metadata": {
        "colab": {
          "base_uri": "https://localhost:8080/"
        },
        "id": "d0nw07m5TC9S",
        "outputId": "73e3234d-803f-4f5e-91a0-42128291267b"
      },
      "execution_count": 46,
      "outputs": [
        {
          "output_type": "stream",
          "name": "stdout",
          "text": [
            "['an' 'are' 'bangladesh' 'could' 'give' 'hello' 'how' 'iphone' 'love' 'me'\n",
            " 'talk' 'to' 'want' 'you']\n"
          ]
        }
      ]
    },
    {
      "cell_type": "code",
      "source": [
        "cv_df = pd.DataFrame(cv_arr, columns=feature_names, index=df['test'])\n",
        "cv_df"
      ],
      "metadata": {
        "colab": {
          "base_uri": "https://localhost:8080/",
          "height": 206
        },
        "id": "Nwg-hElJbvXy",
        "outputId": "32a05e66-3248-4519-af6a-c9a1d3665f0d"
      },
      "execution_count": 37,
      "outputs": [
        {
          "output_type": "execute_result",
          "data": {
            "text/plain": [
              "                              an  are  bangladesh  could  give  hello  how  \\\n",
              "test                                                                         \n",
              "I love Bangladesh              0    0           1      0     0      0    0   \n",
              "Could you give me an iphone?   1    0           0      1     1      0    0   \n",
              "Hello how are you?             0    1           0      0     0      1    1   \n",
              "I want to talk you.            0    0           0      0     0      0    0   \n",
              "\n",
              "                              iphone  love  me  talk  to  want  you  \n",
              "test                                                                 \n",
              "I love Bangladesh                  0     1   0     0   0     0    0  \n",
              "Could you give me an iphone?       1     0   1     0   0     0    1  \n",
              "Hello how are you?                 0     0   0     0   0     0    1  \n",
              "I want to talk you.                0     0   0     1   1     1    1  "
            ],
            "text/html": [
              "\n",
              "\n",
              "  <div id=\"df-e84587aa-1b39-4aa1-91d9-496c10f994ab\">\n",
              "    <div class=\"colab-df-container\">\n",
              "      <div>\n",
              "<style scoped>\n",
              "    .dataframe tbody tr th:only-of-type {\n",
              "        vertical-align: middle;\n",
              "    }\n",
              "\n",
              "    .dataframe tbody tr th {\n",
              "        vertical-align: top;\n",
              "    }\n",
              "\n",
              "    .dataframe thead th {\n",
              "        text-align: right;\n",
              "    }\n",
              "</style>\n",
              "<table border=\"1\" class=\"dataframe\">\n",
              "  <thead>\n",
              "    <tr style=\"text-align: right;\">\n",
              "      <th></th>\n",
              "      <th>an</th>\n",
              "      <th>are</th>\n",
              "      <th>bangladesh</th>\n",
              "      <th>could</th>\n",
              "      <th>give</th>\n",
              "      <th>hello</th>\n",
              "      <th>how</th>\n",
              "      <th>iphone</th>\n",
              "      <th>love</th>\n",
              "      <th>me</th>\n",
              "      <th>talk</th>\n",
              "      <th>to</th>\n",
              "      <th>want</th>\n",
              "      <th>you</th>\n",
              "    </tr>\n",
              "    <tr>\n",
              "      <th>test</th>\n",
              "      <th></th>\n",
              "      <th></th>\n",
              "      <th></th>\n",
              "      <th></th>\n",
              "      <th></th>\n",
              "      <th></th>\n",
              "      <th></th>\n",
              "      <th></th>\n",
              "      <th></th>\n",
              "      <th></th>\n",
              "      <th></th>\n",
              "      <th></th>\n",
              "      <th></th>\n",
              "      <th></th>\n",
              "    </tr>\n",
              "  </thead>\n",
              "  <tbody>\n",
              "    <tr>\n",
              "      <th>I love Bangladesh</th>\n",
              "      <td>0</td>\n",
              "      <td>0</td>\n",
              "      <td>1</td>\n",
              "      <td>0</td>\n",
              "      <td>0</td>\n",
              "      <td>0</td>\n",
              "      <td>0</td>\n",
              "      <td>0</td>\n",
              "      <td>1</td>\n",
              "      <td>0</td>\n",
              "      <td>0</td>\n",
              "      <td>0</td>\n",
              "      <td>0</td>\n",
              "      <td>0</td>\n",
              "    </tr>\n",
              "    <tr>\n",
              "      <th>Could you give me an iphone?</th>\n",
              "      <td>1</td>\n",
              "      <td>0</td>\n",
              "      <td>0</td>\n",
              "      <td>1</td>\n",
              "      <td>1</td>\n",
              "      <td>0</td>\n",
              "      <td>0</td>\n",
              "      <td>1</td>\n",
              "      <td>0</td>\n",
              "      <td>1</td>\n",
              "      <td>0</td>\n",
              "      <td>0</td>\n",
              "      <td>0</td>\n",
              "      <td>1</td>\n",
              "    </tr>\n",
              "    <tr>\n",
              "      <th>Hello how are you?</th>\n",
              "      <td>0</td>\n",
              "      <td>1</td>\n",
              "      <td>0</td>\n",
              "      <td>0</td>\n",
              "      <td>0</td>\n",
              "      <td>1</td>\n",
              "      <td>1</td>\n",
              "      <td>0</td>\n",
              "      <td>0</td>\n",
              "      <td>0</td>\n",
              "      <td>0</td>\n",
              "      <td>0</td>\n",
              "      <td>0</td>\n",
              "      <td>1</td>\n",
              "    </tr>\n",
              "    <tr>\n",
              "      <th>I want to talk you.</th>\n",
              "      <td>0</td>\n",
              "      <td>0</td>\n",
              "      <td>0</td>\n",
              "      <td>0</td>\n",
              "      <td>0</td>\n",
              "      <td>0</td>\n",
              "      <td>0</td>\n",
              "      <td>0</td>\n",
              "      <td>0</td>\n",
              "      <td>0</td>\n",
              "      <td>1</td>\n",
              "      <td>1</td>\n",
              "      <td>1</td>\n",
              "      <td>1</td>\n",
              "    </tr>\n",
              "  </tbody>\n",
              "</table>\n",
              "</div>\n",
              "      <button class=\"colab-df-convert\" onclick=\"convertToInteractive('df-e84587aa-1b39-4aa1-91d9-496c10f994ab')\"\n",
              "              title=\"Convert this dataframe to an interactive table.\"\n",
              "              style=\"display:none;\">\n",
              "\n",
              "  <svg xmlns=\"http://www.w3.org/2000/svg\" height=\"24px\"viewBox=\"0 0 24 24\"\n",
              "       width=\"24px\">\n",
              "    <path d=\"M0 0h24v24H0V0z\" fill=\"none\"/>\n",
              "    <path d=\"M18.56 5.44l.94 2.06.94-2.06 2.06-.94-2.06-.94-.94-2.06-.94 2.06-2.06.94zm-11 1L8.5 8.5l.94-2.06 2.06-.94-2.06-.94L8.5 2.5l-.94 2.06-2.06.94zm10 10l.94 2.06.94-2.06 2.06-.94-2.06-.94-.94-2.06-.94 2.06-2.06.94z\"/><path d=\"M17.41 7.96l-1.37-1.37c-.4-.4-.92-.59-1.43-.59-.52 0-1.04.2-1.43.59L10.3 9.45l-7.72 7.72c-.78.78-.78 2.05 0 2.83L4 21.41c.39.39.9.59 1.41.59.51 0 1.02-.2 1.41-.59l7.78-7.78 2.81-2.81c.8-.78.8-2.07 0-2.86zM5.41 20L4 18.59l7.72-7.72 1.47 1.35L5.41 20z\"/>\n",
              "  </svg>\n",
              "      </button>\n",
              "\n",
              "\n",
              "\n",
              "    <div id=\"df-90b6264d-8f22-4aac-8a47-da87659d3ecf\">\n",
              "      <button class=\"colab-df-quickchart\" onclick=\"quickchart('df-90b6264d-8f22-4aac-8a47-da87659d3ecf')\"\n",
              "              title=\"Suggest charts.\"\n",
              "              style=\"display:none;\">\n",
              "\n",
              "<svg xmlns=\"http://www.w3.org/2000/svg\" height=\"24px\"viewBox=\"0 0 24 24\"\n",
              "     width=\"24px\">\n",
              "    <g>\n",
              "        <path d=\"M19 3H5c-1.1 0-2 .9-2 2v14c0 1.1.9 2 2 2h14c1.1 0 2-.9 2-2V5c0-1.1-.9-2-2-2zM9 17H7v-7h2v7zm4 0h-2V7h2v10zm4 0h-2v-4h2v4z\"/>\n",
              "    </g>\n",
              "</svg>\n",
              "      </button>\n",
              "    </div>\n",
              "\n",
              "<style>\n",
              "  .colab-df-quickchart {\n",
              "    background-color: #E8F0FE;\n",
              "    border: none;\n",
              "    border-radius: 50%;\n",
              "    cursor: pointer;\n",
              "    display: none;\n",
              "    fill: #1967D2;\n",
              "    height: 32px;\n",
              "    padding: 0 0 0 0;\n",
              "    width: 32px;\n",
              "  }\n",
              "\n",
              "  .colab-df-quickchart:hover {\n",
              "    background-color: #E2EBFA;\n",
              "    box-shadow: 0px 1px 2px rgba(60, 64, 67, 0.3), 0px 1px 3px 1px rgba(60, 64, 67, 0.15);\n",
              "    fill: #174EA6;\n",
              "  }\n",
              "\n",
              "  [theme=dark] .colab-df-quickchart {\n",
              "    background-color: #3B4455;\n",
              "    fill: #D2E3FC;\n",
              "  }\n",
              "\n",
              "  [theme=dark] .colab-df-quickchart:hover {\n",
              "    background-color: #434B5C;\n",
              "    box-shadow: 0px 1px 3px 1px rgba(0, 0, 0, 0.15);\n",
              "    filter: drop-shadow(0px 1px 2px rgba(0, 0, 0, 0.3));\n",
              "    fill: #FFFFFF;\n",
              "  }\n",
              "</style>\n",
              "\n",
              "    <script>\n",
              "      async function quickchart(key) {\n",
              "        const containerElement = document.querySelector('#' + key);\n",
              "        const charts = await google.colab.kernel.invokeFunction(\n",
              "            'suggestCharts', [key], {});\n",
              "      }\n",
              "    </script>\n",
              "\n",
              "      <script>\n",
              "\n",
              "function displayQuickchartButton(domScope) {\n",
              "  let quickchartButtonEl =\n",
              "    domScope.querySelector('#df-90b6264d-8f22-4aac-8a47-da87659d3ecf button.colab-df-quickchart');\n",
              "  quickchartButtonEl.style.display =\n",
              "    google.colab.kernel.accessAllowed ? 'block' : 'none';\n",
              "}\n",
              "\n",
              "        displayQuickchartButton(document);\n",
              "      </script>\n",
              "      <style>\n",
              "    .colab-df-container {\n",
              "      display:flex;\n",
              "      flex-wrap:wrap;\n",
              "      gap: 12px;\n",
              "    }\n",
              "\n",
              "    .colab-df-convert {\n",
              "      background-color: #E8F0FE;\n",
              "      border: none;\n",
              "      border-radius: 50%;\n",
              "      cursor: pointer;\n",
              "      display: none;\n",
              "      fill: #1967D2;\n",
              "      height: 32px;\n",
              "      padding: 0 0 0 0;\n",
              "      width: 32px;\n",
              "    }\n",
              "\n",
              "    .colab-df-convert:hover {\n",
              "      background-color: #E2EBFA;\n",
              "      box-shadow: 0px 1px 2px rgba(60, 64, 67, 0.3), 0px 1px 3px 1px rgba(60, 64, 67, 0.15);\n",
              "      fill: #174EA6;\n",
              "    }\n",
              "\n",
              "    [theme=dark] .colab-df-convert {\n",
              "      background-color: #3B4455;\n",
              "      fill: #D2E3FC;\n",
              "    }\n",
              "\n",
              "    [theme=dark] .colab-df-convert:hover {\n",
              "      background-color: #434B5C;\n",
              "      box-shadow: 0px 1px 3px 1px rgba(0, 0, 0, 0.15);\n",
              "      filter: drop-shadow(0px 1px 2px rgba(0, 0, 0, 0.3));\n",
              "      fill: #FFFFFF;\n",
              "    }\n",
              "  </style>\n",
              "\n",
              "      <script>\n",
              "        const buttonEl =\n",
              "          document.querySelector('#df-e84587aa-1b39-4aa1-91d9-496c10f994ab button.colab-df-convert');\n",
              "        buttonEl.style.display =\n",
              "          google.colab.kernel.accessAllowed ? 'block' : 'none';\n",
              "\n",
              "        async function convertToInteractive(key) {\n",
              "          const element = document.querySelector('#df-e84587aa-1b39-4aa1-91d9-496c10f994ab');\n",
              "          const dataTable =\n",
              "            await google.colab.kernel.invokeFunction('convertToInteractive',\n",
              "                                                     [key], {});\n",
              "          if (!dataTable) return;\n",
              "\n",
              "          const docLinkHtml = 'Like what you see? Visit the ' +\n",
              "            '<a target=\"_blank\" href=https://colab.research.google.com/notebooks/data_table.ipynb>data table notebook</a>'\n",
              "            + ' to learn more about interactive tables.';\n",
              "          element.innerHTML = '';\n",
              "          dataTable['output_type'] = 'display_data';\n",
              "          await google.colab.output.renderOutput(dataTable, element);\n",
              "          const docLink = document.createElement('div');\n",
              "          docLink.innerHTML = docLinkHtml;\n",
              "          element.appendChild(docLink);\n",
              "        }\n",
              "      </script>\n",
              "    </div>\n",
              "  </div>\n"
            ]
          },
          "metadata": {},
          "execution_count": 37
        }
      ]
    },
    {
      "cell_type": "markdown",
      "source": [
        "#  TfidfVectorizer"
      ],
      "metadata": {
        "id": "W6baaM3acKxi"
      }
    },
    {
      "cell_type": "code",
      "source": [
        "tf = TfidfVectorizer()\n",
        "tf_x=tf.fit_transform(df[\"test\"])"
      ],
      "metadata": {
        "id": "itNbELLpbvUD"
      },
      "execution_count": 39,
      "outputs": []
    },
    {
      "cell_type": "code",
      "source": [
        "print(tf_x)"
      ],
      "metadata": {
        "colab": {
          "base_uri": "https://localhost:8080/"
        },
        "id": "7Xr2eAanbvRK",
        "outputId": "306f5b9f-9087-491c-b720-2d16552df140"
      },
      "execution_count": 40,
      "outputs": [
        {
          "output_type": "stream",
          "name": "stdout",
          "text": [
            "  (0, 2)\t0.7071067811865476\n",
            "  (0, 8)\t0.7071067811865476\n",
            "  (1, 7)\t0.43003651715871155\n",
            "  (1, 0)\t0.43003651715871155\n",
            "  (1, 9)\t0.43003651715871155\n",
            "  (1, 4)\t0.43003651715871155\n",
            "  (1, 13)\t0.27448673838643983\n",
            "  (1, 3)\t0.43003651715871155\n",
            "  (2, 1)\t0.5417361046803605\n",
            "  (2, 6)\t0.5417361046803605\n",
            "  (2, 5)\t0.5417361046803605\n",
            "  (2, 13)\t0.3457831381910465\n",
            "  (3, 10)\t0.5417361046803605\n",
            "  (3, 11)\t0.5417361046803605\n",
            "  (3, 12)\t0.5417361046803605\n",
            "  (3, 13)\t0.3457831381910465\n"
          ]
        }
      ]
    },
    {
      "cell_type": "code",
      "source": [
        "tf_arr=tf_x.toarray()\n",
        "tf_arr"
      ],
      "metadata": {
        "colab": {
          "base_uri": "https://localhost:8080/"
        },
        "id": "Co8TmpzdbvMK",
        "outputId": "c41ef8bc-2dc0-4ac8-8117-a3acc1ed373a"
      },
      "execution_count": 42,
      "outputs": [
        {
          "output_type": "execute_result",
          "data": {
            "text/plain": [
              "array([[0.        , 0.        , 0.70710678, 0.        , 0.        ,\n",
              "        0.        , 0.        , 0.        , 0.70710678, 0.        ,\n",
              "        0.        , 0.        , 0.        , 0.        ],\n",
              "       [0.43003652, 0.        , 0.        , 0.43003652, 0.43003652,\n",
              "        0.        , 0.        , 0.43003652, 0.        , 0.43003652,\n",
              "        0.        , 0.        , 0.        , 0.27448674],\n",
              "       [0.        , 0.5417361 , 0.        , 0.        , 0.        ,\n",
              "        0.5417361 , 0.5417361 , 0.        , 0.        , 0.        ,\n",
              "        0.        , 0.        , 0.        , 0.34578314],\n",
              "       [0.        , 0.        , 0.        , 0.        , 0.        ,\n",
              "        0.        , 0.        , 0.        , 0.        , 0.        ,\n",
              "        0.5417361 , 0.5417361 , 0.5417361 , 0.34578314]])"
            ]
          },
          "metadata": {},
          "execution_count": 42
        }
      ]
    },
    {
      "cell_type": "code",
      "source": [
        "feature=tf.get_feature_names_out()\n",
        "feature"
      ],
      "metadata": {
        "colab": {
          "base_uri": "https://localhost:8080/"
        },
        "id": "EB_3ZdWeh5RF",
        "outputId": "d1303857-e6ad-45b2-c95f-d2f641d4184e"
      },
      "execution_count": 53,
      "outputs": [
        {
          "output_type": "execute_result",
          "data": {
            "text/plain": [
              "array(['an', 'are', 'bangladesh', 'could', 'give', 'hello', 'how',\n",
              "       'iphone', 'love', 'me', 'talk', 'to', 'want', 'you'], dtype=object)"
            ]
          },
          "metadata": {},
          "execution_count": 53
        }
      ]
    },
    {
      "cell_type": "code",
      "source": [
        "tfidf_df = pd.DataFrame(tf_arr, columns=feature, index=df['test'])\n",
        "tfidf_df"
      ],
      "metadata": {
        "colab": {
          "base_uri": "https://localhost:8080/",
          "height": 357
        },
        "id": "-k7Ggmgnh5JF",
        "outputId": "6a9323c6-23c6-4087-d4b0-910edcb441be"
      },
      "execution_count": 55,
      "outputs": [
        {
          "output_type": "execute_result",
          "data": {
            "text/plain": [
              "                                    an       are  bangladesh     could  \\\n",
              "test                                                                     \n",
              "I love Bangladesh             0.000000  0.000000    0.707107  0.000000   \n",
              "Could you give me an iphone?  0.430037  0.000000    0.000000  0.430037   \n",
              "Hello how are you?            0.000000  0.541736    0.000000  0.000000   \n",
              "I want to talk you.           0.000000  0.000000    0.000000  0.000000   \n",
              "\n",
              "                                  give     hello       how    iphone  \\\n",
              "test                                                                   \n",
              "I love Bangladesh             0.000000  0.000000  0.000000  0.000000   \n",
              "Could you give me an iphone?  0.430037  0.000000  0.000000  0.430037   \n",
              "Hello how are you?            0.000000  0.541736  0.541736  0.000000   \n",
              "I want to talk you.           0.000000  0.000000  0.000000  0.000000   \n",
              "\n",
              "                                  love        me      talk        to  \\\n",
              "test                                                                   \n",
              "I love Bangladesh             0.707107  0.000000  0.000000  0.000000   \n",
              "Could you give me an iphone?  0.000000  0.430037  0.000000  0.000000   \n",
              "Hello how are you?            0.000000  0.000000  0.000000  0.000000   \n",
              "I want to talk you.           0.000000  0.000000  0.541736  0.541736   \n",
              "\n",
              "                                  want       you  \n",
              "test                                              \n",
              "I love Bangladesh             0.000000  0.000000  \n",
              "Could you give me an iphone?  0.000000  0.274487  \n",
              "Hello how are you?            0.000000  0.345783  \n",
              "I want to talk you.           0.541736  0.345783  "
            ],
            "text/html": [
              "\n",
              "\n",
              "  <div id=\"df-1cfb4c8e-ad4f-4db4-b133-136391339dec\">\n",
              "    <div class=\"colab-df-container\">\n",
              "      <div>\n",
              "<style scoped>\n",
              "    .dataframe tbody tr th:only-of-type {\n",
              "        vertical-align: middle;\n",
              "    }\n",
              "\n",
              "    .dataframe tbody tr th {\n",
              "        vertical-align: top;\n",
              "    }\n",
              "\n",
              "    .dataframe thead th {\n",
              "        text-align: right;\n",
              "    }\n",
              "</style>\n",
              "<table border=\"1\" class=\"dataframe\">\n",
              "  <thead>\n",
              "    <tr style=\"text-align: right;\">\n",
              "      <th></th>\n",
              "      <th>an</th>\n",
              "      <th>are</th>\n",
              "      <th>bangladesh</th>\n",
              "      <th>could</th>\n",
              "      <th>give</th>\n",
              "      <th>hello</th>\n",
              "      <th>how</th>\n",
              "      <th>iphone</th>\n",
              "      <th>love</th>\n",
              "      <th>me</th>\n",
              "      <th>talk</th>\n",
              "      <th>to</th>\n",
              "      <th>want</th>\n",
              "      <th>you</th>\n",
              "    </tr>\n",
              "    <tr>\n",
              "      <th>test</th>\n",
              "      <th></th>\n",
              "      <th></th>\n",
              "      <th></th>\n",
              "      <th></th>\n",
              "      <th></th>\n",
              "      <th></th>\n",
              "      <th></th>\n",
              "      <th></th>\n",
              "      <th></th>\n",
              "      <th></th>\n",
              "      <th></th>\n",
              "      <th></th>\n",
              "      <th></th>\n",
              "      <th></th>\n",
              "    </tr>\n",
              "  </thead>\n",
              "  <tbody>\n",
              "    <tr>\n",
              "      <th>I love Bangladesh</th>\n",
              "      <td>0.000000</td>\n",
              "      <td>0.000000</td>\n",
              "      <td>0.707107</td>\n",
              "      <td>0.000000</td>\n",
              "      <td>0.000000</td>\n",
              "      <td>0.000000</td>\n",
              "      <td>0.000000</td>\n",
              "      <td>0.000000</td>\n",
              "      <td>0.707107</td>\n",
              "      <td>0.000000</td>\n",
              "      <td>0.000000</td>\n",
              "      <td>0.000000</td>\n",
              "      <td>0.000000</td>\n",
              "      <td>0.000000</td>\n",
              "    </tr>\n",
              "    <tr>\n",
              "      <th>Could you give me an iphone?</th>\n",
              "      <td>0.430037</td>\n",
              "      <td>0.000000</td>\n",
              "      <td>0.000000</td>\n",
              "      <td>0.430037</td>\n",
              "      <td>0.430037</td>\n",
              "      <td>0.000000</td>\n",
              "      <td>0.000000</td>\n",
              "      <td>0.430037</td>\n",
              "      <td>0.000000</td>\n",
              "      <td>0.430037</td>\n",
              "      <td>0.000000</td>\n",
              "      <td>0.000000</td>\n",
              "      <td>0.000000</td>\n",
              "      <td>0.274487</td>\n",
              "    </tr>\n",
              "    <tr>\n",
              "      <th>Hello how are you?</th>\n",
              "      <td>0.000000</td>\n",
              "      <td>0.541736</td>\n",
              "      <td>0.000000</td>\n",
              "      <td>0.000000</td>\n",
              "      <td>0.000000</td>\n",
              "      <td>0.541736</td>\n",
              "      <td>0.541736</td>\n",
              "      <td>0.000000</td>\n",
              "      <td>0.000000</td>\n",
              "      <td>0.000000</td>\n",
              "      <td>0.000000</td>\n",
              "      <td>0.000000</td>\n",
              "      <td>0.000000</td>\n",
              "      <td>0.345783</td>\n",
              "    </tr>\n",
              "    <tr>\n",
              "      <th>I want to talk you.</th>\n",
              "      <td>0.000000</td>\n",
              "      <td>0.000000</td>\n",
              "      <td>0.000000</td>\n",
              "      <td>0.000000</td>\n",
              "      <td>0.000000</td>\n",
              "      <td>0.000000</td>\n",
              "      <td>0.000000</td>\n",
              "      <td>0.000000</td>\n",
              "      <td>0.000000</td>\n",
              "      <td>0.000000</td>\n",
              "      <td>0.541736</td>\n",
              "      <td>0.541736</td>\n",
              "      <td>0.541736</td>\n",
              "      <td>0.345783</td>\n",
              "    </tr>\n",
              "  </tbody>\n",
              "</table>\n",
              "</div>\n",
              "      <button class=\"colab-df-convert\" onclick=\"convertToInteractive('df-1cfb4c8e-ad4f-4db4-b133-136391339dec')\"\n",
              "              title=\"Convert this dataframe to an interactive table.\"\n",
              "              style=\"display:none;\">\n",
              "\n",
              "  <svg xmlns=\"http://www.w3.org/2000/svg\" height=\"24px\"viewBox=\"0 0 24 24\"\n",
              "       width=\"24px\">\n",
              "    <path d=\"M0 0h24v24H0V0z\" fill=\"none\"/>\n",
              "    <path d=\"M18.56 5.44l.94 2.06.94-2.06 2.06-.94-2.06-.94-.94-2.06-.94 2.06-2.06.94zm-11 1L8.5 8.5l.94-2.06 2.06-.94-2.06-.94L8.5 2.5l-.94 2.06-2.06.94zm10 10l.94 2.06.94-2.06 2.06-.94-2.06-.94-.94-2.06-.94 2.06-2.06.94z\"/><path d=\"M17.41 7.96l-1.37-1.37c-.4-.4-.92-.59-1.43-.59-.52 0-1.04.2-1.43.59L10.3 9.45l-7.72 7.72c-.78.78-.78 2.05 0 2.83L4 21.41c.39.39.9.59 1.41.59.51 0 1.02-.2 1.41-.59l7.78-7.78 2.81-2.81c.8-.78.8-2.07 0-2.86zM5.41 20L4 18.59l7.72-7.72 1.47 1.35L5.41 20z\"/>\n",
              "  </svg>\n",
              "      </button>\n",
              "\n",
              "\n",
              "\n",
              "    <div id=\"df-867151aa-9de5-4ba3-adef-245e69d16a7d\">\n",
              "      <button class=\"colab-df-quickchart\" onclick=\"quickchart('df-867151aa-9de5-4ba3-adef-245e69d16a7d')\"\n",
              "              title=\"Suggest charts.\"\n",
              "              style=\"display:none;\">\n",
              "\n",
              "<svg xmlns=\"http://www.w3.org/2000/svg\" height=\"24px\"viewBox=\"0 0 24 24\"\n",
              "     width=\"24px\">\n",
              "    <g>\n",
              "        <path d=\"M19 3H5c-1.1 0-2 .9-2 2v14c0 1.1.9 2 2 2h14c1.1 0 2-.9 2-2V5c0-1.1-.9-2-2-2zM9 17H7v-7h2v7zm4 0h-2V7h2v10zm4 0h-2v-4h2v4z\"/>\n",
              "    </g>\n",
              "</svg>\n",
              "      </button>\n",
              "    </div>\n",
              "\n",
              "<style>\n",
              "  .colab-df-quickchart {\n",
              "    background-color: #E8F0FE;\n",
              "    border: none;\n",
              "    border-radius: 50%;\n",
              "    cursor: pointer;\n",
              "    display: none;\n",
              "    fill: #1967D2;\n",
              "    height: 32px;\n",
              "    padding: 0 0 0 0;\n",
              "    width: 32px;\n",
              "  }\n",
              "\n",
              "  .colab-df-quickchart:hover {\n",
              "    background-color: #E2EBFA;\n",
              "    box-shadow: 0px 1px 2px rgba(60, 64, 67, 0.3), 0px 1px 3px 1px rgba(60, 64, 67, 0.15);\n",
              "    fill: #174EA6;\n",
              "  }\n",
              "\n",
              "  [theme=dark] .colab-df-quickchart {\n",
              "    background-color: #3B4455;\n",
              "    fill: #D2E3FC;\n",
              "  }\n",
              "\n",
              "  [theme=dark] .colab-df-quickchart:hover {\n",
              "    background-color: #434B5C;\n",
              "    box-shadow: 0px 1px 3px 1px rgba(0, 0, 0, 0.15);\n",
              "    filter: drop-shadow(0px 1px 2px rgba(0, 0, 0, 0.3));\n",
              "    fill: #FFFFFF;\n",
              "  }\n",
              "</style>\n",
              "\n",
              "    <script>\n",
              "      async function quickchart(key) {\n",
              "        const containerElement = document.querySelector('#' + key);\n",
              "        const charts = await google.colab.kernel.invokeFunction(\n",
              "            'suggestCharts', [key], {});\n",
              "      }\n",
              "    </script>\n",
              "\n",
              "      <script>\n",
              "\n",
              "function displayQuickchartButton(domScope) {\n",
              "  let quickchartButtonEl =\n",
              "    domScope.querySelector('#df-867151aa-9de5-4ba3-adef-245e69d16a7d button.colab-df-quickchart');\n",
              "  quickchartButtonEl.style.display =\n",
              "    google.colab.kernel.accessAllowed ? 'block' : 'none';\n",
              "}\n",
              "\n",
              "        displayQuickchartButton(document);\n",
              "      </script>\n",
              "      <style>\n",
              "    .colab-df-container {\n",
              "      display:flex;\n",
              "      flex-wrap:wrap;\n",
              "      gap: 12px;\n",
              "    }\n",
              "\n",
              "    .colab-df-convert {\n",
              "      background-color: #E8F0FE;\n",
              "      border: none;\n",
              "      border-radius: 50%;\n",
              "      cursor: pointer;\n",
              "      display: none;\n",
              "      fill: #1967D2;\n",
              "      height: 32px;\n",
              "      padding: 0 0 0 0;\n",
              "      width: 32px;\n",
              "    }\n",
              "\n",
              "    .colab-df-convert:hover {\n",
              "      background-color: #E2EBFA;\n",
              "      box-shadow: 0px 1px 2px rgba(60, 64, 67, 0.3), 0px 1px 3px 1px rgba(60, 64, 67, 0.15);\n",
              "      fill: #174EA6;\n",
              "    }\n",
              "\n",
              "    [theme=dark] .colab-df-convert {\n",
              "      background-color: #3B4455;\n",
              "      fill: #D2E3FC;\n",
              "    }\n",
              "\n",
              "    [theme=dark] .colab-df-convert:hover {\n",
              "      background-color: #434B5C;\n",
              "      box-shadow: 0px 1px 3px 1px rgba(0, 0, 0, 0.15);\n",
              "      filter: drop-shadow(0px 1px 2px rgba(0, 0, 0, 0.3));\n",
              "      fill: #FFFFFF;\n",
              "    }\n",
              "  </style>\n",
              "\n",
              "      <script>\n",
              "        const buttonEl =\n",
              "          document.querySelector('#df-1cfb4c8e-ad4f-4db4-b133-136391339dec button.colab-df-convert');\n",
              "        buttonEl.style.display =\n",
              "          google.colab.kernel.accessAllowed ? 'block' : 'none';\n",
              "\n",
              "        async function convertToInteractive(key) {\n",
              "          const element = document.querySelector('#df-1cfb4c8e-ad4f-4db4-b133-136391339dec');\n",
              "          const dataTable =\n",
              "            await google.colab.kernel.invokeFunction('convertToInteractive',\n",
              "                                                     [key], {});\n",
              "          if (!dataTable) return;\n",
              "\n",
              "          const docLinkHtml = 'Like what you see? Visit the ' +\n",
              "            '<a target=\"_blank\" href=https://colab.research.google.com/notebooks/data_table.ipynb>data table notebook</a>'\n",
              "            + ' to learn more about interactive tables.';\n",
              "          element.innerHTML = '';\n",
              "          dataTable['output_type'] = 'display_data';\n",
              "          await google.colab.output.renderOutput(dataTable, element);\n",
              "          const docLink = document.createElement('div');\n",
              "          docLink.innerHTML = docLinkHtml;\n",
              "          element.appendChild(docLink);\n",
              "        }\n",
              "      </script>\n",
              "    </div>\n",
              "  </div>\n"
            ]
          },
          "metadata": {},
          "execution_count": 55
        }
      ]
    },
    {
      "cell_type": "markdown",
      "source": [
        "# Word2Vec"
      ],
      "metadata": {
        "id": "vX3V2kuAjUF1"
      }
    },
    {
      "cell_type": "code",
      "source": [
        "!pip install gensim"
      ],
      "metadata": {
        "colab": {
          "base_uri": "https://localhost:8080/"
        },
        "id": "c--N5FP7jXrE",
        "outputId": "81b25c3e-dfe7-453e-9cef-2d4faad8f8d5"
      },
      "execution_count": 56,
      "outputs": [
        {
          "output_type": "stream",
          "name": "stdout",
          "text": [
            "Requirement already satisfied: gensim in /usr/local/lib/python3.10/dist-packages (4.3.1)\n",
            "Requirement already satisfied: numpy>=1.18.5 in /usr/local/lib/python3.10/dist-packages (from gensim) (1.22.4)\n",
            "Requirement already satisfied: scipy>=1.7.0 in /usr/local/lib/python3.10/dist-packages (from gensim) (1.10.1)\n",
            "Requirement already satisfied: smart-open>=1.8.1 in /usr/local/lib/python3.10/dist-packages (from gensim) (6.3.0)\n"
          ]
        }
      ]
    },
    {
      "cell_type": "code",
      "source": [
        "from gensim.models import Word2Vec"
      ],
      "metadata": {
        "id": "4Ri7gyCKjXkC"
      },
      "execution_count": 57,
      "outputs": []
    },
    {
      "cell_type": "code",
      "source": [
        "text_vector = [nltk.word_tokenize(test) for test in df['test']]\n",
        "text_vector\n",
        "model = Word2Vec(text_vector, min_count=1)"
      ],
      "metadata": {
        "colab": {
          "base_uri": "https://localhost:8080/"
        },
        "id": "TiNmOCkujsR4",
        "outputId": "315c9d03-2da5-456b-ea2f-e77f467cacc4"
      },
      "execution_count": 58,
      "outputs": [
        {
          "output_type": "execute_result",
          "data": {
            "text/plain": [
              "[['I', 'love', 'Bangladesh'],\n",
              " ['Could', 'you', 'give', 'me', 'an', 'iphone', '?'],\n",
              " ['Hello', 'how', 'are', 'you', '?'],\n",
              " ['I', 'want', 'to', 'talk', 'you', '.']]"
            ]
          },
          "metadata": {},
          "execution_count": 58
        }
      ]
    },
    {
      "cell_type": "code",
      "source": [
        "model = Word2Vec(text_vector, min_count=1)"
      ],
      "metadata": {
        "id": "OxON_v6ijsIi"
      },
      "execution_count": 59,
      "outputs": []
    },
    {
      "cell_type": "code",
      "source": [
        "if 'love' in model.wv.key_to_index:\n",
        "    word_vector = model.wv['love']\n",
        "    print(\"Word vector for 'sentence':\", word_vector)\n",
        "else:\n",
        "    print(\"'sentence' is not in the vocabulary.\")\n"
      ],
      "metadata": {
        "colab": {
          "base_uri": "https://localhost:8080/"
        },
        "id": "oTti5LYybvEL",
        "outputId": "0021afcd-3b2f-46b7-e5d7-fce796017ab7"
      },
      "execution_count": 67,
      "outputs": [
        {
          "output_type": "stream",
          "name": "stdout",
          "text": [
            "Word vector for 'sentence': [-0.00713902  0.00124103 -0.00717672 -0.00224462  0.0037193   0.00583312\n",
            "  0.00119818  0.00210273 -0.00411039  0.00722533 -0.00630704  0.00464722\n",
            " -0.00821997  0.00203647 -0.00497705 -0.00424769 -0.00310898  0.00565521\n",
            "  0.0057984  -0.00497465  0.00077333 -0.00849578  0.00780981  0.00925729\n",
            " -0.00274233  0.00080022  0.00074665  0.00547788 -0.00860608  0.00058446\n",
            "  0.00686942  0.00223159  0.00112468 -0.00932216  0.00848237 -0.00626413\n",
            " -0.00299237  0.00349379 -0.00077263  0.00141129  0.00178199 -0.0068289\n",
            " -0.00972481  0.00904058  0.00619805 -0.00691293  0.00340348  0.00020606\n",
            "  0.00475375 -0.00711994  0.00402695  0.00434743  0.00995737 -0.00447374\n",
            " -0.00138926 -0.00731732 -0.00969783 -0.00908026 -0.00102275 -0.00650329\n",
            "  0.00484973 -0.00616403  0.00251919  0.00073944 -0.00339215 -0.00097922\n",
            "  0.00997913  0.00914589 -0.00446183  0.00908303 -0.00564176  0.00593092\n",
            " -0.00309722  0.00343175  0.00301723  0.00690046 -0.00237388  0.00877504\n",
            "  0.00758943 -0.00954765 -0.00800821 -0.0076379   0.00292326 -0.00279472\n",
            " -0.00692952 -0.00812826  0.00830918  0.00199049 -0.00932802 -0.00479272\n",
            "  0.00313674 -0.00471321  0.00528084 -0.00423344  0.0026418  -0.00804569\n",
            "  0.00620989  0.00481889  0.00078719  0.00301345]\n"
          ]
        }
      ]
    },
    {
      "cell_type": "code",
      "source": [
        "model.wv.most_similar('Hello', topn=10)"
      ],
      "metadata": {
        "colab": {
          "base_uri": "https://localhost:8080/"
        },
        "id": "hyZqCqZ4pZLE",
        "outputId": "9e923dbc-2a5c-448e-86b8-245740462e8f"
      },
      "execution_count": 71,
      "outputs": [
        {
          "output_type": "execute_result",
          "data": {
            "text/plain": [
              "[('?', 0.17272651195526123),\n",
              " ('Bangladesh', 0.16695065796375275),\n",
              " ('give', 0.11118055880069733),\n",
              " ('talk', 0.10947782546281815),\n",
              " ('you', 0.07967711985111237),\n",
              " ('an', 0.04130832105875015),\n",
              " ('me', 0.037714049220085144),\n",
              " ('to', 0.0132435392588377),\n",
              " ('I', 0.008316040970385075),\n",
              " ('love', -0.005900950636714697)]"
            ]
          },
          "metadata": {},
          "execution_count": 71
        }
      ]
    },
    {
      "cell_type": "code",
      "source": [
        "model.wv.most_similar('you', topn=10)"
      ],
      "metadata": {
        "colab": {
          "base_uri": "https://localhost:8080/"
        },
        "id": "KTXKpssVpZDp",
        "outputId": "17c0f6c3-ff14-4009-9c4e-5c7e3e5d58da"
      },
      "execution_count": 74,
      "outputs": [
        {
          "output_type": "execute_result",
          "data": {
            "text/plain": [
              "[('iphone', 0.21882028877735138),\n",
              " ('.', 0.21624399721622467),\n",
              " ('how', 0.09317699074745178),\n",
              " ('give', 0.09291953593492508),\n",
              " ('Hello', 0.07967708259820938),\n",
              " ('talk', 0.06294766068458557),\n",
              " ('to', 0.054351333528757095),\n",
              " ('me', 0.02705688215792179),\n",
              " ('Could', 0.01613185927271843),\n",
              " ('I', -0.010843228548765182)]"
            ]
          },
          "metadata": {},
          "execution_count": 74
        }
      ]
    },
    {
      "cell_type": "markdown",
      "source": [
        "# REferences\n",
        "\n",
        "* https://www.geeksforgeeks.org/python-stemming-words-with-nltk/\n",
        "\n",
        "* https://www.nltk.org/api/nltk.tokenize.html"
      ],
      "metadata": {
        "id": "b0gu7MU12zML"
      }
    }
  ]
}